{
 "cells": [
  {
   "cell_type": "code",
   "execution_count": 21,
   "id": "5327391d-0de5-4279-bf45-4cc282a87d55",
   "metadata": {},
   "outputs": [],
   "source": [
    "from fastapi import FastAPI\n",
    "from fastapi.responses import JSONResponse\n",
    "from pydantic import BaseModel, validator\n",
    "import pickle as pkl\n",
    "import os\n",
    "import logging\n",
    "import pandas as pd\n",
    "import numpy as np\n",
    "\n",
    "logging.basicConfig(level = logging.INFO, format = '%(asctime)s - %(name)s - %(levelname)s - %(message)s')\n",
    "logger = logging.getLogger(__name__)\n",
    "\n",
    "def load_model():\n",
    "    try:\n",
    "        file = os.getcwd()\n",
    "        directory = os.path.dirname(file)\n",
    "        parent = os.path.dirname(directory)\n",
    "\n",
    "        model_path = os.path.join(parent, 'stock-etl-pipeline', 'models', 'model_20250521_074410.pkl')\n",
    "        \n",
    "        with open(model_path, 'rb') as f:\n",
    "            model = pkl.load(f)\n",
    "        return model\n",
    "\n",
    "    except Exception as e:\n",
    "        logger.error(f\"Failed to load model: {e}\")\n",
    "        raise RuntimeError(f\"Failed to load model: {str(e)}\")\n",
    "\n",
    "\n",
    "model = load_model()"
   ]
  },
  {
   "cell_type": "code",
   "execution_count": 39,
   "id": "34743705-a336-49f0-8583-9f7eff39c36e",
   "metadata": {},
   "outputs": [
    {
     "name": "stdout",
     "output_type": "stream",
     "text": [
      "[-1] [[1.00000000e+00 4.97121228e-27]]\n",
      "{'predictions': array([-1]), 'probabilities': array([[1.00000000e+00, 4.97121228e-27]])}\n"
     ]
    }
   ],
   "source": [
    "def make_prediction(data):\n",
    "    input_data = pd.DataFrame([data['features']])\n",
    "    \n",
    "    pred = model.predict(input_data)\n",
    "    prob = model.predict_proba(input_data)\n",
    "    print(model.class\n",
    "\n",
    "    print(pred, prob)\n",
    "\n",
    "    return {'predictions' : pred, 'probabilities' : prob}\n",
    "\n",
    "result = make_prediction(payload)\n",
    "print(result)"
   ]
  },
  {
   "cell_type": "code",
   "execution_count": 42,
   "id": "6fca9711-df47-40cd-a6cb-f7d6669e6151",
   "metadata": {},
   "outputs": [
    {
     "data": {
      "text/plain": [
       "array([-1,  1])"
      ]
     },
     "execution_count": 42,
     "metadata": {},
     "output_type": "execute_result"
    }
   ],
   "source": [
    "model.classes_"
   ]
  },
  {
   "cell_type": "code",
   "execution_count": 52,
   "id": "6fdff0c0-2571-42c8-9558-7725020582b3",
   "metadata": {},
   "outputs": [
    {
     "data": {
      "text/plain": [
       "{'-1': 1.0, '1': 4.9712122777519585e-27}"
      ]
     },
     "execution_count": 52,
     "metadata": {},
     "output_type": "execute_result"
    }
   ],
   "source": [
    "new_dict = dict(zip(map(str, model.classes_), result['probabilities'][0]))\n",
    "new_dict"
   ]
  },
  {
   "cell_type": "code",
   "execution_count": 32,
   "id": "e3b62375-b4ec-4b7d-8570-0ba00a3bd54b",
   "metadata": {},
   "outputs": [
    {
     "data": {
      "text/plain": [
       "'probabilities'"
      ]
     },
     "execution_count": 32,
     "metadata": {},
     "output_type": "execute_result"
    }
   ],
   "source": [
    "prob"
   ]
  },
  {
   "cell_type": "code",
   "execution_count": null,
   "id": "6b020848-14b5-45a3-b6d2-e1fb267d67a8",
   "metadata": {},
   "outputs": [],
   "source": [
    "payload = {\n",
    "    \"features\": {\n",
    "        \"rsi_6_hl2\": 0.45,\n",
    "        \"momentum_3\": -0.12,\n",
    "        \"close_return_2\": 0.03,\n",
    "        \"rsi_6_close\": 0.52,\n",
    "        \"rsi_21_hl2\": 0.60,\n",
    "        \"rsi_21_hlc3\": 0.57,\n",
    "        \"rsi_14_hlc3\": 0.49,\n",
    "        \"CCI_14_0.015\": 102.5,\n",
    "        \"zscore_7\": -0.83,\n",
    "        \"momentum_1\": 0.18,\n",
    "        \"zscore_3\": 0.25,\n",
    "        \"rsi_21_ohlc4\": 0.63,\n",
    "        \"bbp\": 0.42,\n",
    "        \"zscore_30\": -0.35,\n",
    "        \"zscore_5\": 0.07,\n",
    "        \"rsi_14_close\": 0.51,\n",
    "        \"pvr\": 1.35,\n",
    "        \"ADX_14\": 23.8,\n",
    "        \"J\": 89.6,\n",
    "        \"dec\": 0,\n",
    "        \"rsi_14_hl2\": 0.48,\n",
    "        \"inc\": 1,\n",
    "        \"rsi_6_ohlc4\": 0.50,\n",
    "        \"rolling_std_30\": 0.021,\n",
    "        \"CMO_14\": -10.4,\n",
    "        \"momentum_7\": -0.05,\n",
    "        \"rsi_6_hlc3\": 0.47,\n",
    "        \"zscore_2\": 0.11,\n",
    "        \"zscore_9\": -0.41,\n",
    "        \"zscore_14\": -0.22,\n",
    "        \"rolling_std_9\": 0.014,\n",
    "        \"rsi_14_ohlc4\": 0.53,\n",
    "        \"DMN_14\": 9.6,\n",
    "        \"BBP_20_2.0\": 0.39,\n",
    "        \"zscore_21\": 0.19,\n",
    "        \"willr\": -56.7,\n",
    "        \"rsi_30_hl2\": 0.62,\n",
    "        \"bop\": 0.21,\n",
    "        \"close_return_1\": 0.01,\n",
    "        \"close_return_3\": -0.02,\n",
    "        \"DMP_14\": 14.2,\n",
    "        \"rsi_30_ohlc4\": 0.58,\n",
    "        \"momentum_2\": -0.09,\n",
    "        \"cdl_doji\": 0\n",
    "    }\n",
    "}"
   ]
  }
 ],
 "metadata": {
  "kernelspec": {
   "display_name": "Python 3 (ipykernel)",
   "language": "python",
   "name": "python3"
  },
  "language_info": {
   "codemirror_mode": {
    "name": "ipython",
    "version": 3
   },
   "file_extension": ".py",
   "mimetype": "text/x-python",
   "name": "python",
   "nbconvert_exporter": "python",
   "pygments_lexer": "ipython3",
   "version": "3.10.12"
  }
 },
 "nbformat": 4,
 "nbformat_minor": 5
}
