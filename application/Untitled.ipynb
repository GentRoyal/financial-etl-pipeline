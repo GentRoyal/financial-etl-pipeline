{
 "cells": [
  {
   "cell_type": "code",
   "execution_count": 1,
   "id": "de77ceb3-f420-4685-83fd-421c02547bc4",
   "metadata": {},
   "outputs": [],
   "source": [
    "from fastapi import FastAPI\n",
    "import joblib\n",
    "import os\n",
    "import pandas as pd\n",
    "\n",
    "directory_name = os.getcwd()\n",
    "\n",
    "# absolute_path = os.path.abspath(__file__)\n",
    "# directory_name = os.path.dirname(absolute_path)\n",
    "parent_name = os.path.dirname(directory_name)\n",
    "models_dir = os.path.join(parent_name, 'models')"
   ]
  },
  {
   "cell_type": "code",
   "execution_count": 2,
   "id": "39ec1450-1125-4e06-a4b7-e4f708a40b7f",
   "metadata": {},
   "outputs": [
    {
     "data": {
      "text/plain": [
       "'/home/gentroyal/airflow_projects/stock-etl-pipeline/models'"
      ]
     },
     "execution_count": 2,
     "metadata": {},
     "output_type": "execute_result"
    }
   ],
   "source": [
    "models_dir"
   ]
  },
  {
   "cell_type": "code",
   "execution_count": 93,
   "id": "af3ef858-df47-4904-92e9-c8bf7354fdc0",
   "metadata": {},
   "outputs": [
    {
     "name": "stdout",
     "output_type": "stream",
     "text": [
      "Loaded model: model_20250521_074410.pkl\n"
     ]
    }
   ],
   "source": [
    "models_dir = os.path.join(parent_name, 'models')\n",
    "# List all files in the directory\n",
    "model_files = [f for f in os.listdir(models_dir) if f.startswith('model_')]\n",
    "\n",
    "if model_files:\n",
    "    model_files.sort(key = lambda x: x.replace('model_', ''), reverse = True) # Sort by timestamp extracted from filename\n",
    "    \n",
    "    latest_model_file = model_files[0]\n",
    "    latest_model_path = os.path.join(models_dir, latest_model_file)\n",
    "    model = joblib.load(latest_model_path)\n",
    "    \n",
    "    print(f\"Loaded model: {latest_model_file}\")\n",
    "else:\n",
    "    print(\"No models found in the directory.\")"
   ]
  },
  {
   "cell_type": "code",
   "execution_count": 94,
   "id": "da93a786-2270-4b4c-856b-5d25eacf3666",
   "metadata": {},
   "outputs": [
    {
     "data": {
      "text/plain": [
       "44"
      ]
     },
     "execution_count": 94,
     "metadata": {},
     "output_type": "execute_result"
    }
   ],
   "source": [
    "len(model.coefs_[0])"
   ]
  },
  {
   "cell_type": "code",
   "execution_count": 95,
   "id": "6b116ace-b5e7-4b31-821b-8ed49c94541c",
   "metadata": {},
   "outputs": [],
   "source": [
    "df = pd.read_csv(os.path.join(parent_name, 'data', 'results', 'results_20250521_074410.csv'))"
   ]
  },
  {
   "cell_type": "code",
   "execution_count": 96,
   "id": "9443f11d-244d-490a-9a3f-659d3d4f6a88",
   "metadata": {},
   "outputs": [
    {
     "data": {
      "text/html": [
       "<div>\n",
       "<style scoped>\n",
       "    .dataframe tbody tr th:only-of-type {\n",
       "        vertical-align: middle;\n",
       "    }\n",
       "\n",
       "    .dataframe tbody tr th {\n",
       "        vertical-align: top;\n",
       "    }\n",
       "\n",
       "    .dataframe thead th {\n",
       "        text-align: right;\n",
       "    }\n",
       "</style>\n",
       "<table border=\"1\" class=\"dataframe\">\n",
       "  <thead>\n",
       "    <tr style=\"text-align: right;\">\n",
       "      <th></th>\n",
       "      <th>num_features</th>\n",
       "      <th>features</th>\n",
       "      <th>accuracy</th>\n",
       "      <th>time_taken</th>\n",
       "      <th>epochs</th>\n",
       "    </tr>\n",
       "  </thead>\n",
       "  <tbody>\n",
       "    <tr>\n",
       "      <th>0</th>\n",
       "      <td>170</td>\n",
       "      <td>['open', 'high', 'low', 'close', 'volume', 'hl...</td>\n",
       "      <td>0.754301</td>\n",
       "      <td>91.262872</td>\n",
       "      <td>100</td>\n",
       "    </tr>\n",
       "    <tr>\n",
       "      <th>1</th>\n",
       "      <td>105</td>\n",
       "      <td>['sma_10_hl2', 'volume_change_3', 'rsi_50_ohlc...</td>\n",
       "      <td>0.750000</td>\n",
       "      <td>33.409762</td>\n",
       "      <td>84</td>\n",
       "    </tr>\n",
       "    <tr>\n",
       "      <th>2</th>\n",
       "      <td>56</td>\n",
       "      <td>['K', 'rsi_6_hl2', 'momentum_3', 'close_return...</td>\n",
       "      <td>0.800000</td>\n",
       "      <td>35.889360</td>\n",
       "      <td>112</td>\n",
       "    </tr>\n",
       "    <tr>\n",
       "      <th>3</th>\n",
       "      <td>44</td>\n",
       "      <td>['rsi_6_hl2', 'momentum_3', 'close_return_2', ...</td>\n",
       "      <td>0.866667</td>\n",
       "      <td>42.662821</td>\n",
       "      <td>133</td>\n",
       "    </tr>\n",
       "    <tr>\n",
       "      <th>4</th>\n",
       "      <td>39</td>\n",
       "      <td>['rsi_6_hl2', 'momentum_3', 'rsi_21_hlc3', 'rs...</td>\n",
       "      <td>0.819892</td>\n",
       "      <td>2.971116</td>\n",
       "      <td>145</td>\n",
       "    </tr>\n",
       "    <tr>\n",
       "      <th>5</th>\n",
       "      <td>8</td>\n",
       "      <td>['rsi_6_hl2', 'rsi_14_hl2', 'CCI_14_0.015', 'D...</td>\n",
       "      <td>0.655914</td>\n",
       "      <td>24.003114</td>\n",
       "      <td>1720</td>\n",
       "    </tr>\n",
       "  </tbody>\n",
       "</table>\n",
       "</div>"
      ],
      "text/plain": [
       "   num_features                                           features  accuracy  \\\n",
       "0           170  ['open', 'high', 'low', 'close', 'volume', 'hl...  0.754301   \n",
       "1           105  ['sma_10_hl2', 'volume_change_3', 'rsi_50_ohlc...  0.750000   \n",
       "2            56  ['K', 'rsi_6_hl2', 'momentum_3', 'close_return...  0.800000   \n",
       "3            44  ['rsi_6_hl2', 'momentum_3', 'close_return_2', ...  0.866667   \n",
       "4            39  ['rsi_6_hl2', 'momentum_3', 'rsi_21_hlc3', 'rs...  0.819892   \n",
       "5             8  ['rsi_6_hl2', 'rsi_14_hl2', 'CCI_14_0.015', 'D...  0.655914   \n",
       "\n",
       "   time_taken  epochs  \n",
       "0   91.262872     100  \n",
       "1   33.409762      84  \n",
       "2   35.889360     112  \n",
       "3   42.662821     133  \n",
       "4    2.971116     145  \n",
       "5   24.003114    1720  "
      ]
     },
     "execution_count": 96,
     "metadata": {},
     "output_type": "execute_result"
    }
   ],
   "source": [
    "df"
   ]
  },
  {
   "cell_type": "code",
   "execution_count": 56,
   "id": "6c7ba332-29a4-4033-a89b-2022e48cfe56",
   "metadata": {},
   "outputs": [],
   "source": [
    "features = ['rsi_14_close', 'rsi_21_hl2', 'volume_change_50', 'zscore_30', 'sma_200_hlc3', 'rsi_50_ohlc4', 'pvr', 'ema_200_hl2', 'close_return_30', 'zscore_14', 'zscore_2', 'volume_change_2', 'momentum_21', 'rolling_std_5', 'momentum_9', 'sma_10_close', 'volume_change_14', 'close_return_50', 'momentum_14', 'STOCHRSIk_14_14_3_3', 'TRIXs_30_9', 'UO_7_14_28', 'volume_change_30', 'DMN_14', 'BBL_20_2.0', 'MACD_12_26_9', 'D', 'dec', 'volume_change_5', 'ROC_10', 'close_return_1', 'MACDs_12_26_9', 'bbp', 'sma_10_hl2', 'volume_change_100', 'volume', 'momentum_30', 'close_return_3', 'J', 'sma_100_hl2', 'CCI_14_0.015', 'momentum_3', 'close_return_14', 'rsi_14_hlc3', 'zscore_5', 'volume_change_21', 'ema_200_hlc3', 'momentum_1', 'BBU_20_2.0', 'volume_change_1', 'rsi_50_hlc3', 'rolling_std_2', 'sma_200_hl2', 'rsi_30_hlc3', 'willr', 'ttm_trend', 'rsi_14_hl2', 'rsi_21_ohlc4', 'ADX_14', 'rsi_30_ohlc4', 'rolling_std_9', 'rsi_30_hl2', 'rsi_6_hlc3', 'rsi_6_hl2', 'close_return_5', 'sma_100_close', 'BBP_20_2.0', 'rsi_6_ohlc4', 'CMO_14', 'zscore_21', 'close_return_2', 'rolling_std_14', 'zscore_9', 'momentum_50', 'rolling_std_30', 'MACDh_12_26_9', 'inc', 'close_return_7', 'rsi_21_hlc3', 'volume_change_3', 'cdl_doji', 'rolling_std_7', 'rsi_50_hl2', 'bop', 'volume_change_7', 'sma_50_hlc3', 'sma_50_close', 'rsi_14_ohlc4', 'rolling_std_3', 'body', 'volume_change_9', 'zscore_7', 'momentum_2', 'K', 'zscore_3', 'range_ratio', 'momentum_5', 'close_return_21', 'DMP_14', 'momentum_7', 'rsi_6_close', 'price_range', 'sma_50_hl2', 'close_return_9']\n",
    "features = \t['DMP_14', 'rsi_6_hlc3', 'rsi_6_hl2', 'rsi_14_ohlc4', 'CCI_14_0.015', 'BBP_20_2.0', 'rsi_14_hlc3', 'bbp']\n",
    "import random\n",
    "\n",
    "sample_input = {feature: round(random.uniform(-5, 5), 3) for feature in features}\n",
    "sample_input = pd.DataFrame(sample_input, index = [0])"
   ]
  },
  {
   "cell_type": "code",
   "execution_count": 57,
   "id": "3373acd6-bb17-427e-bd0d-425ea4e7acda",
   "metadata": {},
   "outputs": [
    {
     "data": {
      "text/plain": [
       "array([1])"
      ]
     },
     "execution_count": 57,
     "metadata": {},
     "output_type": "execute_result"
    }
   ],
   "source": [
    "model.predict(sample_input)"
   ]
  },
  {
   "cell_type": "code",
   "execution_count": null,
   "id": "5b109453-05e0-48db-8178-250d1b4736f0",
   "metadata": {},
   "outputs": [],
   "source": []
  }
 ],
 "metadata": {
  "kernelspec": {
   "display_name": "Python 3 (ipykernel)",
   "language": "python",
   "name": "python3"
  },
  "language_info": {
   "codemirror_mode": {
    "name": "ipython",
    "version": 3
   },
   "file_extension": ".py",
   "mimetype": "text/x-python",
   "name": "python",
   "nbconvert_exporter": "python",
   "pygments_lexer": "ipython3",
   "version": "3.10.12"
  }
 },
 "nbformat": 4,
 "nbformat_minor": 5
}
