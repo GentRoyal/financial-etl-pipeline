{
 "cells": [
  {
   "cell_type": "code",
   "execution_count": 1,
   "id": "3fb9371e-e332-4a0f-9d23-e52fed43fb86",
   "metadata": {},
   "outputs": [],
   "source": [
    "from scripts.api_data_fetcher import MyAPI"
   ]
  },
  {
   "cell_type": "code",
   "execution_count": 2,
   "id": "cff2c1d7-b303-4f20-8c2d-74d0d2c05a8d",
   "metadata": {},
   "outputs": [],
   "source": []
  },
  {
   "cell_type": "code",
   "execution_count": 3,
   "id": "99f18ee2-bb42-4da6-ba22-5647129aa78f",
   "metadata": {},
   "outputs": [],
   "source": []
  },
  {
   "cell_type": "code",
   "execution_count": 4,
   "id": "b6ac19da-4e40-42c6-b4b8-72fb680ba74c",
   "metadata": {},
   "outputs": [
    {
     "data": {
      "text/plain": [
       "'8b6799158085376518839527a7d3695375bf5ed0dbd7827f07432d1727b80d37cabd96fb6d26794d2de7e5f057c54ab86b7d139761cb07bb164c8d37e68ca53fb15fc5bd527b68716bb455b62d092fa54675fe6622fcd06808778b9cea35afba7ebb0c9aa40fe6ae8303785b5e0b89920659d9f099bdc57af1413722525aea78'"
      ]
     },
     "execution_count": 4,
     "metadata": {},
     "output_type": "execute_result"
    }
   ],
   "source": []
  },
  {
   "cell_type": "code",
   "execution_count": null,
   "id": "49012f73-1d63-4f06-9a2e-ef8822d2bd5f",
   "metadata": {},
   "outputs": [],
   "source": []
  }
 ],
 "metadata": {
  "kernelspec": {
   "display_name": "Python 3 (ipykernel)",
   "language": "python",
   "name": "python3"
  },
  "language_info": {
   "codemirror_mode": {
    "name": "ipython",
    "version": 3
   },
   "file_extension": ".py",
   "mimetype": "text/x-python",
   "name": "python",
   "nbconvert_exporter": "python",
   "pygments_lexer": "ipython3",
   "version": "3.10.12"
  }
 },
 "nbformat": 4,
 "nbformat_minor": 5
}
